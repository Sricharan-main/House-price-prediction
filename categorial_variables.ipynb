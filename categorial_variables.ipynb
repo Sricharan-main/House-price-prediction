{
 "cells": [
  {
   "cell_type": "code",
   "execution_count": 1,
   "metadata": {},
   "outputs": [],
   "source": [
    "import pandas as pd \n",
    "from sklearn.model_selection import train_test_split\n",
    "X_data=pd.read_csv(\"A:\\\\Coding\\\\ML\\\\Kaggle\\\\House-price-prediction-master\\\\train.csv\",index_col='Id')\n",
    "X_test=pd.read_csv(\"A:\\\\Coding\\\\ML\\\\Kaggle\\\\House-price-prediction-master\\\\test.csv\",index_col='Id')\n",
    "# SalePrice missing rows removal\n",
    "X_data.dropna(axis=0,subset=['SalePrice'],inplace=True)\n",
    "\n",
    "y=X_data.SalePrice\n",
    "X_data.drop(['SalePrice'],axis=1,inplace=True)\n",
    "\n",
    "X_train,X_valid,y_train,y_valid=train_test_split(X_data,y,train_size=0.8,test_size=0.2,random_state=1)"
   ]
  },
  {
   "cell_type": "code",
   "execution_count": 2,
   "metadata": {},
   "outputs": [
    {
     "name": "stdout",
     "output_type": "stream",
     "text": [
      "40\n"
     ]
    }
   ],
   "source": [
    "# numerical columns\n",
    "numerical_cols=[col for col in X_train.columns if X_train[col].dtype in ['int64','float64']]\n",
    "# object columns\n",
    "object_cols=[col for col in X_train.columns if X_train[col].dtype== 'object']\n",
    "good_label_cols=[col for col in X_train.columns if set(X_valid[col]).issubset(set(X_train[col])) and X_train[col].dtype=='object']\n",
    "#good_label_cols=[col for col in good_label_cols if X_train[col].nunique() <10]\n",
    "print(len(good_label_cols))\n",
    "bad_cols=list(set(object_cols)-set(good_label_cols))\n"
   ]
  },
  {
   "cell_type": "code",
   "execution_count": 3,
   "metadata": {},
   "outputs": [],
   "source": [
    "# numerical cols pre processing\n",
    "from sklearn.impute import SimpleImputer\n",
    "from sklearn.preprocessing import StandardScaler\n",
    "from sklearn.preprocessing import MinMaxScaler\n",
    "from sklearn.preprocessing import Normalizer\n",
    "pd.options.mode.chained_assignment = None \n",
    "my_imputer=SimpleImputer(strategy='mean')\n",
    "X_train_numeric=X_train[numerical_cols]\n",
    "X_valid_numeric=X_valid[numerical_cols]\n",
    "X_train_numeric=pd.DataFrame(my_imputer.fit_transform(X_train_numeric),columns=X_train_numeric.columns)\n",
    "X_valid_numeric=pd.DataFrame(my_imputer.transform(X_valid_numeric),columns=X_train_numeric.columns)\n",
    "\n",
    "# my_scaler=StandardScaler()\n",
    "my_scaler=MinMaxScaler()\n",
    "\n",
    "\n",
    "X_train_numeric=pd.DataFrame(my_scaler.fit_transform(X_train_numeric),columns=X_train_numeric.columns)\n",
    "X_valid_numeric=pd.DataFrame(my_scaler.transform(X_valid_numeric),columns=X_train_numeric.columns)"
   ]
  },
  {
   "cell_type": "code",
   "execution_count": 4,
   "metadata": {},
   "outputs": [],
   "source": [
    "# object columns pre processing \n",
    "from sklearn.preprocessing import OneHotEncoder\n",
    "from sklearn.preprocessing import OrdinalEncoder\n",
    "from sklearn.impute import SimpleImputer\n",
    "X_train_cat=X_train[good_label_cols]\n",
    "X_valid_cat=X_valid[good_label_cols]\n",
    "imputer2=SimpleImputer(strategy='most_frequent')\n",
    "X_train_cat=pd.DataFrame(imputer2.fit_transform(X_train_cat),columns=X_train_cat.columns)\n",
    "X_valid_cat=pd.DataFrame(imputer2.transform(X_valid_cat),columns=X_train_cat.columns)\n",
    "Encoder=OneHotEncoder(handle_unknown='ignore',sparse=False)\n",
    "X_train_encode=pd.DataFrame(Encoder.fit_transform(X_train_cat))\n",
    "X_valid_encode=pd.DataFrame(Encoder.transform(X_valid_cat))\n",
    "X_train_encode.index=X_train_cat.index\n",
    "X_valid_encode.index=X_valid_cat.index\n",
    "# Encoder=OrdinalEncoder()\n",
    "# X_train_encode=pd.DataFrame(Encoder.fit_transform(X_train_cat))\n",
    "# X_valid_encode=pd.DataFrame(Encoder.transform(X_valid_cat))\n",
    "# X_train_encode.columns=X_train_cat.columns\n",
    "# X_valid_encode.columns=X_valid_cat.columns\n",
    "\n",
    "X_train_final=pd.concat([X_train_numeric,X_train_encode],axis=1)\n",
    "X_valid_final=pd.concat([X_valid_numeric,X_valid_encode],axis=1)"
   ]
  },
  {
   "cell_type": "code",
   "execution_count": 5,
   "metadata": {},
   "outputs": [
    {
     "name": "stdout",
     "output_type": "stream",
     "text": [
      "16299.366210045662\n"
     ]
    }
   ],
   "source": [
    "#model fit and predict \n",
    "#model fit and predict \n",
    "from sklearn.ensemble import RandomForestRegressor\n",
    "from sklearn.metrics import mean_absolute_error\n",
    "\n",
    "model=RandomForestRegressor(n_estimators=180,random_state=0)\n",
    "model.fit(X_train_final,y_train)\n",
    "pred=model.predict(X_valid_final)\n",
    "print(mean_absolute_error(y_valid,pred))"
   ]
  },
  {
   "cell_type": "code",
   "execution_count": 11,
   "metadata": {},
   "outputs": [
    {
     "name": "stdout",
     "output_type": "stream",
     "text": [
      "14999.695406142979\n"
     ]
    }
   ],
   "source": [
    "#model fit and predict \n",
    "from sklearn.ensemble import RandomForestRegressor\n",
    "from sklearn.metrics import mean_absolute_error\n",
    "from xgboost import XGBRegressor\n",
    "\n",
    "model=XGBRegressor(n_estimators=450,random_state=0,learning_rate=.04)\n",
    "model.fit(X_train_final,y_train)\n",
    "pred=model.predict(X_valid_final)\n",
    "print(mean_absolute_error(y_valid,pred))"
   ]
  },
  {
   "cell_type": "code",
   "execution_count": 12,
   "metadata": {},
   "outputs": [],
   "source": [
    "\n",
    "X_test_numeric=X_test[numerical_cols]\n",
    "\n",
    "X_test_cat=X_test[good_label_cols]\n",
    "\n",
    "X_test_numeric=pd.DataFrame(my_imputer.transform(X_test_numeric),columns=X_test_numeric.columns)\n",
    "\n",
    "X_test_numeric=pd.DataFrame(my_scaler.transform(X_test_numeric),columns=X_test_numeric.columns)\n",
    "\n",
    "X_test_cat=pd.DataFrame(imputer2.transform(X_test_cat))\n",
    "\n",
    "X_test_encode=pd.DataFrame(Encoder.transform(X_test_cat))\n",
    "\n",
    "\n",
    "X_test_encode.index=X_test_cat.index\n",
    "\n",
    "X_test_final=pd.concat([X_test_numeric,X_test_encode],axis=1)\n",
    "preds=model.predict(X_test_final)"
   ]
  },
  {
   "cell_type": "code",
   "execution_count": 13,
   "metadata": {},
   "outputs": [],
   "source": [
    "output = pd.DataFrame({'Id': X_test.index,\n",
    "                       'SalePrice': preds})\n",
    "output.to_csv('xgboost_variable_submission.csv', index=False)"
   ]
  }
 ],
 "metadata": {
  "interpreter": {
   "hash": "3077b360b69d00c7fcd39d876eb0fb75f68bc45ee90f41f7c13a02da7f9960e7"
  },
  "kernelspec": {
   "display_name": "Python 3.8.0 64-bit ('ml1.0': conda)",
   "name": "python3"
  },
  "language_info": {
   "codemirror_mode": {
    "name": "ipython",
    "version": 3
   },
   "file_extension": ".py",
   "mimetype": "text/x-python",
   "name": "python",
   "nbconvert_exporter": "python",
   "pygments_lexer": "ipython3",
   "version": "3.8.11"
  },
  "orig_nbformat": 4
 },
 "nbformat": 4,
 "nbformat_minor": 2
}
