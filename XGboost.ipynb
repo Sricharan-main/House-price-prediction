{
 "cells": [
  {
   "cell_type": "code",
   "execution_count": null,
   "metadata": {},
   "outputs": [],
   "source": [
    "import pandas as pd \n",
    "from sklearn.model_selection import train_test_split\n",
    "X_data=pd.read_csv(\"A:\\\\Coding\\\\ML\\\\Kaggle\\\\House-price-prediction-master\\\\train.csv\",index_col='Id')\n",
    "X_test=pd.read_csv(\"A:\\\\Coding\\\\ML\\\\Kaggle\\\\House-price-prediction-master\\\\test.csv\",index_col='Id')\n",
    "# SalePrice missing rows removal\n",
    "X_data.dropna(axis=0,subset=['SalePrice'],inplace=True)\n",
    "\n",
    "y=X_data.SalePrice\n",
    "X_data.drop(['SalePrice'],axis=1,inplace=True)\n",
    "\n",
    "X_train,X_valid,y_train,y_valid=train_test_split(X_data,y,train_size=0.8,test_size=0.2,random_state=1)"
   ]
  },
  {
   "cell_type": "code",
   "execution_count": null,
   "metadata": {},
   "outputs": [],
   "source": [
    "cat_cols=[cname for cname in X_train.columns if X_train[cname].dtype=='object' and X_train[cname].nunique()<10]\n",
    "num_cols=[cname for cname in X_train.columns if X_train[cname].dtype in ['int64','float64'] ]\n",
    "my_cols=cat_cols+num_cols\n",
    "\n",
    "X_train=X_train[my_cols]\n",
    "X_valid=X_valid[my_cols]\n",
    "X_test=X_test[my_cols]"
   ]
  },
  {
   "cell_type": "code",
   "execution_count": null,
   "metadata": {},
   "outputs": [],
   "source": [
    "from sklearn.metrics import mean_absolute_error\n",
    "from sklearn.pipeline import Pipeline\n",
    "from sklearn.preprocessing import OneHotEncoder\n",
    "from sklearn.ensemble import RandomForestRegressor\n",
    "from sklearn.impute import SimpleImputer\n",
    "from sklearn.compose import ColumnTransformer\n",
    "\n",
    "numcol_transformer=SimpleImputer(strategy='mean')\n",
    "catcol_transformer=Pipeline(steps=[('imputer',SimpleImputer(strategy='most_frequent')),\n",
    "('onehot',OneHotEncoder(handle_unknown='ignore'))\n",
    "])"
   ]
  },
  {
   "cell_type": "code",
   "execution_count": 6,
   "metadata": {},
   "outputs": [
    {
     "name": "stdout",
     "output_type": "stream",
     "text": [
      "16063.137842465754\n"
     ]
    }
   ],
   "source": [
    "from xgboost import XGBRegressor\n",
    "preprocessor=ColumnTransformer(transformers=[('num_cols',numcol_transformer,num_cols),('cat_cols',catcol_transformer,cat_cols)])\n",
    "model=XGBRegressor(n_estimators=500,random_state=0,learning_rate=.05)\n",
    "mod_final=Pipeline(steps=[('preprocess',preprocessor),('model',model)])\n",
    "\n",
    "mod_final.fit(X_train,y_train)\n",
    "\n",
    "preds=mod_final.predict(X_valid)\n",
    "\n",
    "abs_error=mean_absolute_error(y_valid,preds)\n",
    "print(abs_error)"
   ]
  }
 ],
 "metadata": {
  "interpreter": {
   "hash": "3077b360b69d00c7fcd39d876eb0fb75f68bc45ee90f41f7c13a02da7f9960e7"
  },
  "kernelspec": {
   "display_name": "Python 3.8.0 64-bit ('ml1.0': conda)",
   "name": "python3"
  },
  "language_info": {
   "codemirror_mode": {
    "name": "ipython",
    "version": 3
   },
   "file_extension": ".py",
   "mimetype": "text/x-python",
   "name": "python",
   "nbconvert_exporter": "python",
   "pygments_lexer": "ipython3",
   "version": "3.8.11"
  },
  "orig_nbformat": 4
 },
 "nbformat": 4,
 "nbformat_minor": 2
}
