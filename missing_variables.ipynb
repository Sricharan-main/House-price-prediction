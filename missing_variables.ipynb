{
 "cells": [
  {
   "cell_type": "code",
   "execution_count": 3,
   "metadata": {},
   "outputs": [
    {
     "name": "stdout",
     "output_type": "stream",
     "text": [
      "      MSSubClass  LotFrontage  LotArea  OverallQual  OverallCond  YearBuilt  \\\n",
      "Id                                                                            \n",
      "619           20         90.0    11694            9            5       2007   \n",
      "871           20         60.0     6600            5            5       1962   \n",
      "93            30         80.0    13360            5            7       1921   \n",
      "818           20          NaN    13265            8            5       2002   \n",
      "303           20        118.0    13704            7            5       2001   \n",
      "...          ...          ...      ...          ...          ...        ...   \n",
      "764           60         82.0     9430            8            5       1999   \n",
      "836           20         60.0     9600            4            7       1950   \n",
      "1217          90         68.0     8930            6            5       1978   \n",
      "560          120          NaN     3196            7            5       2003   \n",
      "685           60         58.0    16770            7            5       1998   \n",
      "\n",
      "      YearRemodAdd  MasVnrArea  BsmtFinSF1  BsmtFinSF2  ...  GarageArea  \\\n",
      "Id                                                      ...               \n",
      "619           2007       452.0          48           0  ...         774   \n",
      "871           1962         0.0           0           0  ...         308   \n",
      "93            2006         0.0         713           0  ...         432   \n",
      "818           2002       148.0        1218           0  ...         857   \n",
      "303           2002       150.0           0           0  ...         843   \n",
      "...            ...         ...         ...         ...  ...         ...   \n",
      "764           1999       673.0        1163           0  ...         856   \n",
      "836           1995         0.0         442           0  ...         436   \n",
      "1217          1978         0.0           0           0  ...         539   \n",
      "560           2004        18.0           0           0  ...         420   \n",
      "685           1998        30.0           0           0  ...         486   \n",
      "\n",
      "      WoodDeckSF  OpenPorchSF  EnclosedPorch  3SsnPorch  ScreenPorch  \\\n",
      "Id                                                                     \n",
      "619            0          108              0          0          260   \n",
      "871            0            0              0          0            0   \n",
      "93             0            0             44          0            0   \n",
      "818          150           59              0          0            0   \n",
      "303          468           81              0          0            0   \n",
      "...          ...          ...            ...        ...          ...   \n",
      "764            0          128              0          0          180   \n",
      "836          290            0              0          0            0   \n",
      "1217           0            0              0          0            0   \n",
      "560          143           20              0          0            0   \n",
      "685            0           81              0          0            0   \n",
      "\n",
      "      PoolArea  MiscVal  MoSold  YrSold  \n",
      "Id                                       \n",
      "619          0        0       7    2007  \n",
      "871          0        0       8    2009  \n",
      "93           0        0       8    2009  \n",
      "818          0        0       7    2008  \n",
      "303          0        0       1    2006  \n",
      "...        ...      ...     ...     ...  \n",
      "764          0        0       7    2009  \n",
      "836          0        0       2    2010  \n",
      "1217         0        0       4    2010  \n",
      "560          0        0      10    2006  \n",
      "685          0        0       6    2010  \n",
      "\n",
      "[1168 rows x 36 columns]\n"
     ]
    }
   ],
   "source": [
    "import pandas as pd \n",
    "from sklearn.model_selection import train_test_split\n",
    "X_data=pd.read_csv(\"A:\\\\Coding\\\\ML\\\\Kaggle\\\\House-price-prediction-master\\\\train.csv\",index_col='Id')\n",
    "X_test=pd.read_csv(\"A:\\\\Coding\\\\ML\\\\Kaggle\\\\House-price-prediction-master\\\\test.csv\",index_col='Id')\n",
    "X_data.dropna(axis=0,subset=['SalePrice'],inplace=True)\n",
    "y=X_data.SalePrice\n",
    "X_data.drop(['SalePrice'],axis=1,inplace=True)\n",
    "X=X_data.select_dtypes(exclude=['object'])\n",
    "X_test=X_test.select_dtypes(exclude=['object'])\n",
    "X_train,X_valid,y_train,y_valid=train_test_split(X,y,train_size=0.8,test_size=0.2,random_state=0)\n",
    "print(X_train)\n"
   ]
  },
  {
   "cell_type": "code",
   "execution_count": 4,
   "metadata": {},
   "outputs": [
    {
     "name": "stdout",
     "output_type": "stream",
     "text": [
      "LotFrontage    212\n",
      "MasVnrArea       6\n",
      "GarageYrBlt     58\n",
      "dtype: int64\n"
     ]
    }
   ],
   "source": [
    "\n",
    "# seeing missing data \n",
    "X_see=X_train.isnull().sum()\n",
    "print(X_see[X_see>0])"
   ]
  },
  {
   "cell_type": "code",
   "execution_count": 5,
   "metadata": {},
   "outputs": [],
   "source": [
    "from sklearn.ensemble import RandomForestRegressor\n",
    "from sklearn.metrics import mean_absolute_error\n",
    "\n",
    "def Score_cal(X_train,X_valid,y_train,y_valid):\n",
    "    model=RandomForestRegressor(n_estimators=100,random_state=0)\n",
    "    model.fit(X_train,y_train)\n",
    "    pred=model.predict(X_valid)\n",
    "    return mean_absolute_error(y_valid,pred)\n",
    "    \n",
    "    "
   ]
  },
  {
   "cell_type": "code",
   "execution_count": 6,
   "metadata": {},
   "outputs": [
    {
     "name": "stdout",
     "output_type": "stream",
     "text": [
      "17837.82570776256\n"
     ]
    }
   ],
   "source": [
    "#score by removing cols with missing values\n",
    "removing_cols=[col for col in X_train.columns if X_train[col].isnull().any()]\n",
    "X_train_reduce=X_train.drop(removing_cols,axis=1)\n",
    "X_valid_reduce=X_valid.drop(removing_cols,axis=1)\n",
    "print(Score_cal(X_train_reduce,X_valid_reduce,y_train,y_valid))\n"
   ]
  },
  {
   "cell_type": "code",
   "execution_count": 7,
   "metadata": {},
   "outputs": [
    {
     "name": "stdout",
     "output_type": "stream",
     "text": [
      "18062.894611872147\n"
     ]
    }
   ],
   "source": [
    "#score by imputation \n",
    "from sklearn.impute import SimpleImputer\n",
    "imputer=SimpleImputer()\n",
    "X_train_imputed=pd.DataFrame(imputer.fit_transform(X_train))\n",
    "X_valid_imputed=pd.DataFrame(imputer.transform(X_valid))\n",
    "\n",
    "X_train_imputed.columns=X_train.columns\n",
    "X_valid_imputed.columns=X_valid.columns\n",
    "print(Score_cal(X_train_imputed,X_valid_imputed,y_train,y_valid))\n"
   ]
  },
  {
   "cell_type": "code",
   "execution_count": 8,
   "metadata": {},
   "outputs": [
    {
     "name": "stdout",
     "output_type": "stream",
     "text": [
      "17791.59899543379\n"
     ]
    }
   ],
   "source": [
    "# score by imputed median \n",
    "imputer=SimpleImputer(strategy='median')\n",
    "X_train_imputed=pd.DataFrame(imputer.fit_transform(X_train))\n",
    "X_valid_imputed=pd.DataFrame(imputer.transform(X_valid))\n",
    "\n",
    "X_train_imputed.columns=X_train.columns\n",
    "X_valid_imputed.columns=X_valid.columns\n",
    "print(Score_cal(X_train_imputed,X_valid_imputed,y_train,y_valid))\n",
    "X_test_final=pd.DataFrame(imputer.transform(X_test))\n",
    "model=RandomForestRegressor(n_estimators=100,random_state=0)\n",
    "model.fit(X_train_imputed,y_train)\n",
    "pred=model.predict(X_test_final)\n",
    "final_pred=model.predict(X_test_final)"
   ]
  },
  {
   "cell_type": "code",
   "execution_count": 9,
   "metadata": {},
   "outputs": [],
   "source": [
    "output=pd.DataFrame({'Id': X_test.index,'SalePrice': final_pred})\n",
    "output.to_csv(\"Final_submission.csv\",index=False)"
   ]
  }
 ],
 "metadata": {
  "interpreter": {
   "hash": "3077b360b69d00c7fcd39d876eb0fb75f68bc45ee90f41f7c13a02da7f9960e7"
  },
  "kernelspec": {
   "display_name": "Python 3.8.0 64-bit ('ml1.0': conda)",
   "name": "python3"
  },
  "language_info": {
   "codemirror_mode": {
    "name": "ipython",
    "version": 3
   },
   "file_extension": ".py",
   "mimetype": "text/x-python",
   "name": "python",
   "nbconvert_exporter": "python",
   "pygments_lexer": "ipython3",
   "version": "3.8.11"
  },
  "orig_nbformat": 4
 },
 "nbformat": 4,
 "nbformat_minor": 2
}
